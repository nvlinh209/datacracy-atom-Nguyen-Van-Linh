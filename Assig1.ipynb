{
  "nbformat": 4,
  "nbformat_minor": 0,
  "metadata": {
    "colab": {
      "name": "Assig1.ipynb",
      "provenance": [],
      "authorship_tag": "ABX9TyPZ4aZt67FzBHYt35l089cz",
      "include_colab_link": true
    },
    "kernelspec": {
      "name": "python3",
      "display_name": "Python 3"
    },
    "language_info": {
      "name": "python"
    }
  },
  "cells": [
    {
      "cell_type": "markdown",
      "metadata": {
        "id": "view-in-github",
        "colab_type": "text"
      },
      "source": [
        "<a href=\"https://colab.research.google.com/github/nvlinh209/datacracy-atom-Nguyen-Van-Linh/blob/main/Assig1.ipynb\" target=\"_parent\"><img src=\"https://colab.research.google.com/assets/colab-badge.svg\" alt=\"Open In Colab\"/></a>"
      ]
    },
    {
      "cell_type": "code",
      "metadata": {
        "colab": {
          "base_uri": "https://localhost:8080/"
        },
        "id": "-_-7R_D6sYQ9",
        "outputId": "9157d25c-e3d7-4e41-946b-97ab57edbba7"
      },
      "source": [
        "#your first program\n",
        "#linhnguyengalaxycoder\n",
        "print('konnichiwa, world!') \n",
        "print('Bạn tên gì?') #bạn tên gì?\n",
        "myName = input()\n",
        "print('Rất vui khi được gặp bạn, ' + myName)\n",
        "print('Tên của bạn có độ dài là:')\n",
        "print(len(myName))\n",
        "print('Bạn bao nhiêu tuổi rồi?') # ask for their age\n",
        "myAge = input()\n",
        "print('Bạn đã đến Trái Đất này được ' + str(int(myAge) + 1) + ' năm.')\n"
      ],
      "execution_count": null,
      "outputs": [
        {
          "output_type": "stream",
          "text": [
            "konnichiwa, world!\n",
            "Bạn tên gì?\n",
            "linh\n",
            "Rất vui khi được gặp bạn, linh\n",
            "Tên của bạn có độ dài là:\n",
            "4\n",
            "Bạn bao nhiêu tuổi rồi?\n",
            "21\n",
            "Bạn đã đến Trái Đất này được 22 năm.\n"
          ],
          "name": "stdout"
        }
      ]
    },
    {
      "cell_type": "code",
      "metadata": {
        "id": "gBFBW8Z105Xt"
      },
      "source": [
        "# A Short Program: Rock, Paper, Scissors\n",
        ">>> 'hello' == 'hello'\n",
        "True\n",
        ">>> 'hello' == 'Hello'\n",
        "False\n",
        ">>> 'dog' != 'cat'\n",
        "True\n",
        ">>> True == True\n",
        "True\n",
        ">>> True != False\n",
        "True\n",
        ">>> 42 == 42.0\n",
        "True\n",
        ">>> 42 == '42'\n"
      ],
      "execution_count": null,
      "outputs": []
    }
  ]
}